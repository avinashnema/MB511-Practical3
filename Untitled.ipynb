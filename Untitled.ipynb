{
 "cells": [
  {
   "cell_type": "code",
   "execution_count": null,
   "id": "cc063a9a",
   "metadata": {},
   "outputs": [],
   "source": [
    "print('first cell')"
   ]
  },
  {
   "cell_type": "code",
   "execution_count": null,
   "id": "3051fc14",
   "metadata": {},
   "outputs": [],
   "source": [
    "print('second cell')"
   ]
  },
  {
   "cell_type": "code",
   "execution_count": null,
   "id": "edafd192",
   "metadata": {},
   "outputs": [],
   "source": [
    "print('third cell')"
   ]
  },
  {
   "cell_type": "code",
   "execution_count": null,
   "id": "d8fecfd5",
   "metadata": {},
   "outputs": [],
   "source": [
    "print('fourth cell')"
   ]
  }
 ],
 "metadata": {
  "kernelspec": {
   "display_name": "Python 3 (ipykernel)",
   "language": "python",
   "name": "python3"
  },
  "language_info": {
   "codemirror_mode": {
    "name": "ipython",
    "version": 3
   },
   "file_extension": ".py",
   "mimetype": "text/x-python",
   "name": "python",
   "nbconvert_exporter": "python",
   "pygments_lexer": "ipython3",
   "version": "3.11.5"
  }
 },
 "nbformat": 4,
 "nbformat_minor": 5
}
